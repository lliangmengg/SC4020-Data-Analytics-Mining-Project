{
 "cells": [
  {
   "cell_type": "code",
   "execution_count": null,
   "id": "b0472734",
   "metadata": {},
   "outputs": [],
   "source": [
    "from sklearn.datasets import make_blobs, make_moons, make_gaussian_quantiles\n",
    "import matplotlib.pyplot as plt\n",
    "\n",
    "#spherical clusters dataset\n",
    "X1, y1 = make_blobs(n_samples=1000, centers=4, cluster_std=0.60, random_state=0)\n",
    "\n",
    "#moon clusters dataset\n",
    "X2, y2 = make_moons(n_samples=1000, noise=0.15, random_state=0)\n",
    "\n",
    "#nested clusters dataset\n",
    "X3, y3 = make_gaussian_quantiles(n_samples=1000, n_features=2, n_classes=3, random_state=0)"
   ]
  },
  {
   "cell_type": "code",
   "execution_count": null,
   "id": "543b0050",
   "metadata": {},
   "outputs": [],
   "source": [
    "plt.scatter(X1[:, 0], X1[:, 1], s=20)\n",
    "plt.title(\"Well Separated , Spherical Clusters\")\n",
    "plt.show()\n",
    "\n",
    "\n",
    "plt.scatter(X2[:, 0], X2[:, 1], s=20)\n",
    "plt.title(\"Moon Clusters with Varying Densities and Noise\")\n",
    "plt.show()\n",
    "\n",
    "\n",
    "plt.scatter(X3[:, 0], X3[:, 1], s=20)\n",
    "plt.title(\"Nested Clusters\")\n",
    "plt.show()\n"
   ]
  },
  {
   "cell_type": "markdown",
   "id": "fd582696",
   "metadata": {},
   "source": [
    "## Export to CSV"
   ]
  },
  {
   "cell_type": "code",
   "execution_count": null,
   "id": "7771c9a4",
   "metadata": {},
   "outputs": [],
   "source": [
    "import pandas as pd\n",
    "\n",
    "\n",
    "data1 = pd.DataFrame(X1, columns=['Feature1', 'Feature2'])\n",
    "data1['Cluster'] = y1\n",
    "data1.to_csv('Speherical_Clusters.csv', index=False)\n",
    "\n",
    "\n",
    "data2 = pd.DataFrame(X2, columns=['Feature1', 'Feature2'])\n",
    "data2['Cluster'] = y2\n",
    "data2.to_csv('moons_Clusters.csv', index=False)\n",
    "\n",
    "\n",
    "data3 = pd.DataFrame(X3, columns=['Feature1', 'Feature2'])\n",
    "data3['Cluster'] = y3\n",
    "data3.to_csv('Nested_Clusters.csv', index=False)"
   ]
  }
 ],
 "metadata": {
  "kernelspec": {
   "display_name": "Python 3 (ipykernel)",
   "language": "python",
   "name": "python3"
  },
  "language_info": {
   "codemirror_mode": {
    "name": "ipython",
    "version": 3
   },
   "file_extension": ".py",
   "mimetype": "text/x-python",
   "name": "python",
   "nbconvert_exporter": "python",
   "pygments_lexer": "ipython3",
   "version": "3.9.13"
  }
 },
 "nbformat": 4,
 "nbformat_minor": 5
}
